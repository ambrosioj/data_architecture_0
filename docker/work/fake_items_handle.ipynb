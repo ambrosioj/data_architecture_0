{
 "cells": [
  {
   "cell_type": "code",
   "execution_count": 22,
   "id": "a482ef3c-49ff-4844-b904-cdb0b77698af",
   "metadata": {},
   "outputs": [],
   "source": [
    "import pyspark\n",
    "from pyspark import SparkContext\n",
    "from pyspark.sql import SparkSession\n",
    "from pyspark.sql import SQLContext"
   ]
  },
  {
   "cell_type": "code",
   "execution_count": 23,
   "id": "cf1efb1b-70fd-4701-9784-91e2f32ee0ea",
   "metadata": {},
   "outputs": [],
   "source": [
    "spark = (SparkSession\n",
    "         .builder\n",
    "         .master('local[*]')\\\n",
    "         .getOrCreate()\n",
    "         )"
   ]
  },
  {
   "cell_type": "code",
   "execution_count": 24,
   "id": "a8a9ae78-406e-4acd-aa49-287ad8af4c2a",
   "metadata": {},
   "outputs": [],
   "source": [
    "spark._jsc.hadoopConfiguration().set(\"fs.s3a.endpoint\", \"http://minio:9000\")\n",
    "spark._jsc.hadoopConfiguration().set(\"fs.s3a.access.key\", \"FFD34B2AC56E76E8BB9E7EFD7D283\")\n",
    "spark._jsc.hadoopConfiguration().set(\"fs.s3a.secret.key\", \"47A13EFAB1CA1F253FD6F56DEF769\")\n",
    "spark._jsc.hadoopConfiguration().set(\"fs.s3a.impl\",\"org.apache.hadoop.fs.s3a.S3AFileSystem\")\n",
    "spark._jsc.hadoopConfiguration().set(\"fs.s3a.path.style.access\", \"true\")\n",
    "spark._jsc.hadoopConfiguration().set(\"fs.s3a.aws.credentials.provider\",\"org.apache.hadoop.fs.s3a.SimpleAWSCredentialsProvider\")\n",
    "spark._jsc.hadoopConfiguration().set(\"spark.jars\", \"postgresql-42.2.14.jar\")"
   ]
  },
  {
   "cell_type": "code",
   "execution_count": 25,
   "id": "0b118ce4-f1fe-48bd-84c4-a8d3774a8175",
   "metadata": {
    "tags": []
   },
   "outputs": [],
   "source": [
    "# read from minio\n",
    "df_fake_items = spark.read \\\n",
    "        .format(\"json\") \\\n",
    "        .option(\"inferSchema\", \"true\") \\\n",
    "        .json(\"s3a://landing/fake_items//*.json\")\n"
   ]
  },
  {
   "cell_type": "code",
   "execution_count": 26,
   "id": "1b0cd71b-492e-49bf-a4e0-bd828927d1c7",
   "metadata": {},
   "outputs": [
    {
     "name": "stdout",
     "output_type": "stream",
     "text": [
      "+----------+--------------------+--------------------+--------------------+------------+-------------------+--------------------+--------------------+--------------------+-----------+--------------------+--------------------+--------------------+--------------------+--------------------+--------------------+---------+----------+-------------------+----------+\n",
      "|Unnamed: 0|         ai_model_id|      cloned_from_id|      content_filter|content_type|         created_at|dt_current_timestamp|             flavors|                  id|is_archived|              job_id|            metadata|          project_id|    prompt_schema_id|             root_id|    selected_flavors|   status|      step|         updated_at|updated_by|\n",
      "+----------+--------------------+--------------------+--------------------+------------+-------------------+--------------------+--------------------+--------------------+-----------+--------------------+--------------------+--------------------+--------------------+--------------------+--------------------+---------+----------+-------------------+----------+\n",
      "|         0|de01b15b-3faa-477...|3165f3ef-dd8a-47c...|{\"key1\": \"against...|      father|2023-07-12 00:46:13|          1699616860|{\"key1\": \"hold\", ...|412bd17e-a46d-405...|      false|0043c0f5-f574-4eb...|{\"key1\": \"speak\",...|a7742b34-3c22-4df...|64db7edf-4f1d-4ae...|1907b857-0611-496...|{\"key1\": \"seek\", ...|  meeting|  language|2022-11-19 11:21:37|     owner|\n",
      "|         1|51e501fc-cc82-400...|7fa23806-95d8-478...|{\"key1\": \"account...|       about|2022-12-29 05:53:06|          1699616860|{\"key1\": \"send\", ...|412bd17e-a46d-405...|       true|f3268443-9c55-45a...|{\"key1\": \"sometim...|fe852b9c-141a-48a...|26674676-ee77-418...|9a6d2762-cf1d-47e...|{\"key1\": \"herself...|   region|   without|2023-06-20 02:42:11|  property|\n",
      "|         2|e455d7df-1d6d-4fd...|a2efd873-4a04-4aa...|{\"key1\": \"situati...|         get|2022-11-15 19:39:04|          1699616860|{\"key1\": \"general...|412bd17e-a46d-405...|       true|8b094eb5-8a39-47a...|{\"key1\": \"stateme...|6b81d9ef-796a-496...|d9797102-2045-4f9...|6d5f5c97-1736-4b5...|{\"key1\": \"measure...|     wear|     month|2023-07-17 15:29:45|   college|\n",
      "|         3|053a1a89-7e4d-40f...|be3eb513-23d7-4b2...|{\"key1\": \"Congres...|         for|2023-05-02 06:05:50|          1699616860|{\"key1\": \"able\", ...|6b6aee59-618e-473...|       true|b4a2aadf-14ac-404...|{\"key1\": \"buildin...|6f76b957-b8b0-47b...|d7a8fddf-8a76-47c...|1a0858c2-ad7f-46c...|{\"key1\": \"then\", ...|   school|        on|2023-08-24 11:54:00|    spring|\n",
      "|         4|3203505d-b979-45b...|762d5c29-f45e-407...|{\"key1\": \"candida...|        stay|2023-04-27 06:23:59|          1699616860|{\"key1\": \"social\"...|412bd17e-a46d-405...|      false|789e0ef3-6685-4af...|{\"key1\": \"yard\", ...|c922edf9-f93a-4bd...|138954f1-55ad-4b9...|38e356d0-a5c8-483...|{\"key1\": \"score\",...|  himself|      will|2022-12-12 06:19:05|      cold|\n",
      "|         5|efe5925c-e571-44b...|b3bf94d3-d72d-42a...|{\"key1\": \"house\",...|        upon|2023-09-28 16:59:15|          1699616860|{\"key1\": \"people\"...|1b234577-5bab-4d9...|       true|1366be79-5b81-45d...|{\"key1\": \"upon\", ...|18e72b78-79a3-4d5...|28d56e08-87d2-46f...|05f0b5d4-31bf-43a...|{\"key1\": \"fly\", \"...|      two|     spend|2023-09-02 05:47:33|    middle|\n",
      "|         6|a3215aa7-d202-479...|370738d9-09db-4a0...|{\"key1\": \"same\", ...|       ahead|2023-09-28 22:56:37|          1699616860|{\"key1\": \"suddenl...|6b6aee59-618e-473...|      false|806e21a3-b639-40a...|{\"key1\": \"improve...|9738b282-f5f4-48e...|ffe1a669-60c2-46a...|ace35b22-0e93-4e6...|{\"key1\": \"individ...|    state|      find|2023-03-09 05:58:28|      once|\n",
      "|         7|2dc5ba8d-b4ba-4a5...|47205e12-4102-4c5...|{\"key1\": \"energy\"...|    economic|2023-09-19 12:29:35|          1699616860|{\"key1\": \"foreign...|6b6aee59-618e-473...|      false|834591f2-9433-4dc...|{\"key1\": \"sport\",...|2625b456-9a9f-487...|4c1e8b1e-1806-4b4...|3ebe0b8e-8633-460...|{\"key1\": \"heavy\",...|  someone|        do|2023-08-28 23:25:18|   picture|\n",
      "|         8|16f446f4-b2d6-4eb...|a6455da0-04db-4bf...|{\"key1\": \"this\", ...|    audience|2023-09-20 21:17:09|          1699616860|{\"key1\": \"voice\",...|6b6aee59-618e-473...|      false|3c4eab5a-69ab-4ab...|{\"key1\": \"pick\", ...|db31e6e7-d4fc-48e...|f0274651-ba99-472...|fc0a1c24-e9c7-4a4...|{\"key1\": \"third\",...| analysis|       any|2023-03-10 05:09:06|       law|\n",
      "|         9|ec10fea0-804a-44b...|e286ad07-5491-48c...|{\"key1\": \"laugh\",...|         Mrs|2023-03-03 03:07:37|          1699616860|{\"key1\": \"daughte...|2a6ed982-8a99-447...|      false|89374e97-e9ec-4c2...|{\"key1\": \"water\",...|4a594863-a871-457...|8932406d-b410-493...|2df0bb0c-3f19-447...|{\"key1\": \"show\", ...| consumer|      poor|2023-08-15 18:00:31|   similar|\n",
      "|        10|8df8fc62-4cdb-407...|cb1e69f1-9607-456...|{\"key1\": \"item\", ...|  difference|2023-11-03 19:15:43|          1699616860|{\"key1\": \"stay\", ...|1b234577-5bab-4d9...|      false|5733e207-56e0-4a2...|{\"key1\": \"song\", ...|18bc0372-9d8b-4bc...|887721f7-1436-4ae...|787c067f-f788-4ed...|{\"key1\": \"protect...|    whole|   outside|2023-05-26 08:28:44|        go|\n",
      "|        11|6dbf684f-d5b2-4ee...|576e7409-a699-4c0...|{\"key1\": \"watch\",...|        fund|2023-04-20 18:02:10|          1699616860|{\"key1\": \"class\",...|5ce2fd6c-0b13-45c...|       true|442dabfe-e684-4e4...|{\"key1\": \"as\", \"k...|9cc6e8db-699d-46f...|f5d5d7b8-f5e1-4d5...|3a5f7696-f945-4d4...|{\"key1\": \"two\", \"...| question|       tax|2023-01-06 03:20:45|     story|\n",
      "|        12|515cb9b4-5e42-4c0...|10afd768-30c2-45d...|{\"key1\": \"town\", ...|        like|2023-05-07 22:39:57|          1699616860|{\"key1\": \"person\"...|f4934bfc-eacf-453...|      false|93759ccc-3886-44b...|{\"key1\": \"success...|beb77d72-00f5-443...|d28c8081-03ae-4ae...|113620d3-fc49-4a4...|{\"key1\": \"mouth\",...|     walk|        it|2023-04-13 04:11:08|    dinner|\n",
      "|        13|cf25b128-f290-417...|64407d4e-fe62-4b6...|{\"key1\": \"senior\"...|         she|2023-08-15 03:50:24|          1699616860|{\"key1\": \"agree\",...|4268760b-950a-419...|      false|8ff5e596-1bb3-4ac...|{\"key1\": \"effect\"...|95778a32-0972-476...|1f1980bf-39c9-422...|52870f3b-8edf-478...|{\"key1\": \"treatme...|     next|     large|2022-11-18 12:37:08|       man|\n",
      "|        14|104a698f-796e-46e...|b0556234-39f5-4e6...|{\"key1\": \"impact\"...|   knowledge|2023-10-01 06:04:01|          1699616860|{\"key1\": \"recogni...|965aeef9-06d5-4e2...|       true|883cb4a0-ab35-40e...|{\"key1\": \"bad\", \"...|924c0fbd-7a41-4db...|4abc28a0-bd7f-49f...|3e6a89b0-8174-44f...|{\"key1\": \"describ...|    today|     point|2023-08-29 04:25:01| executive|\n",
      "|        15|2876ec4c-ab72-43e...|116d67a9-c3f7-4dc...|{\"key1\": \"old\", \"...|       civil|2023-04-26 00:22:56|          1699616860|{\"key1\": \"fly\", \"...|965aeef9-06d5-4e2...|       true|e3edafd1-d19a-4ad...|{\"key1\": \"court\",...|b03244cd-e298-44d...|771adeee-995a-4d4...|80efd24c-a66b-47f...|{\"key1\": \"financi...|    which|      mind|2023-09-03 04:48:48|    forget|\n",
      "|        16|416ef42f-3d09-48b...|63481c1a-bf15-4b3...|{\"key1\": \"social\"...|       radio|2023-09-23 16:59:19|          1699616860|{\"key1\": \"nice\", ...|4268760b-950a-419...|      false|1d903347-51e3-49c...|{\"key1\": \"compute...|2707bad5-110d-4a2...|ef4c531e-8dbe-467...|0142218c-197e-488...|{\"key1\": \"maybe\",...|    avoid|television|2023-06-14 18:16:26|     night|\n",
      "|        17|51cc399e-5220-460...|107b6577-7fdb-4c0...|{\"key1\": \"across\"...|        left|2022-11-28 22:07:38|          1699616860|{\"key1\": \"charact...|1b234577-5bab-4d9...|      false|491d01a6-9438-45c...|{\"key1\": \"page\", ...|5acc7e3b-011f-40e...|fe852b9c-141a-48a...|b2dc7f6b-a553-492...|{\"key1\": \"fire\", ...|     home|    lawyer|2022-12-18 10:42:14|     first|\n",
      "|        18|caddd100-f5e9-46c...|b24de6bf-5a38-410...|{\"key1\": \"hundred...|     despite|2023-04-25 04:48:09|          1699616860|{\"key1\": \"managem...|2a6ed982-8a99-447...|       true|93759ccc-3886-44b...|{\"key1\": \"directo...|0eb7cb7a-9c6a-40f...|dbe36298-a918-4c4...|16c8265c-c08f-42b...|{\"key1\": \"popular...| material|      feel|2023-11-04 14:40:08|       not|\n",
      "|        19|c17592ae-4ecf-418...|b4a0554a-b76f-483...|{\"key1\": \"technol...|        else|2022-12-15 12:04:05|          1699616860|{\"key1\": \"next\", ...|f4934bfc-eacf-453...|      false|ce1dc85c-e162-41a...|{\"key1\": \"back\", ...|780085ac-f1cd-477...|cad0a261-d08f-45b...|323b8173-e95f-4f6...|{\"key1\": \"quickly...|everybody|difference|2022-12-27 11:51:47|    member|\n",
      "+----------+--------------------+--------------------+--------------------+------------+-------------------+--------------------+--------------------+--------------------+-----------+--------------------+--------------------+--------------------+--------------------+--------------------+--------------------+---------+----------+-------------------+----------+\n",
      "only showing top 20 rows\n",
      "\n"
     ]
    }
   ],
   "source": [
    "df_fake_items.show()"
   ]
  },
  {
   "cell_type": "code",
   "execution_count": 30,
   "id": "870a3f1c-b8b6-446d-abbc-59c7a15ae0ee",
   "metadata": {},
   "outputs": [
    {
     "name": "stdout",
     "output_type": "stream",
     "text": [
      "root\n",
      " |-- Unnamed: 0: long (nullable = true)\n",
      " |-- ai_model_id: string (nullable = true)\n",
      " |-- cloned_from_id: string (nullable = true)\n",
      " |-- content_filter: string (nullable = true)\n",
      " |-- content_type: string (nullable = true)\n",
      " |-- created_at: string (nullable = true)\n",
      " |-- dt_current_timestamp: long (nullable = true)\n",
      " |-- flavors: string (nullable = true)\n",
      " |-- id: string (nullable = true)\n",
      " |-- is_archived: boolean (nullable = true)\n",
      " |-- job_id: string (nullable = true)\n",
      " |-- metadata: string (nullable = true)\n",
      " |-- project_id: string (nullable = true)\n",
      " |-- prompt_schema_id: string (nullable = true)\n",
      " |-- root_id: string (nullable = true)\n",
      " |-- selected_flavors: string (nullable = true)\n",
      " |-- status: string (nullable = true)\n",
      " |-- step: string (nullable = true)\n",
      " |-- updated_at: string (nullable = true)\n",
      " |-- updated_by: string (nullable = true)\n",
      "\n"
     ]
    }
   ],
   "source": [
    "df_fake_items.printSchema()"
   ]
  },
  {
   "cell_type": "code",
   "execution_count": 27,
   "id": "77ce51e8-7dc3-41c4-94d3-17f62bb95252",
   "metadata": {},
   "outputs": [],
   "source": [
    "df_fake_items.write.format(\"jdbc\")\\\n",
    "    .option(\"url\", \"jdbc:postgresql://postgres:5432/postgres\") \\\n",
    "    .option(\"driver\", \"org.postgresql.Driver\").option(\"dbtable\", \"demo.fake_items\") \\\n",
    "    .option(\"user\", \"postgres\").option(\"password\", \"Sup3rS3c3t\").mode('overwrite').save()"
   ]
  },
  {
   "cell_type": "code",
   "execution_count": 28,
   "id": "3aeddc94-baf8-47ef-a614-df2688d600e4",
   "metadata": {},
   "outputs": [],
   "source": [
    "spark.stop()"
   ]
  }
 ],
 "metadata": {
  "kernelspec": {
   "display_name": "Python 3 (ipykernel)",
   "language": "python",
   "name": "python3"
  },
  "language_info": {
   "codemirror_mode": {
    "name": "ipython",
    "version": 3
   },
   "file_extension": ".py",
   "mimetype": "text/x-python",
   "name": "python",
   "nbconvert_exporter": "python",
   "pygments_lexer": "ipython3",
   "version": "3.10.5"
  }
 },
 "nbformat": 4,
 "nbformat_minor": 5
}
