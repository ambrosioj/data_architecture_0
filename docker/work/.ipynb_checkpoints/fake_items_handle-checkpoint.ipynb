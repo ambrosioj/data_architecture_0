{
 "cells": [
  {
   "cell_type": "code",
   "execution_count": 1,
   "id": "a482ef3c-49ff-4844-b904-cdb0b77698af",
   "metadata": {},
   "outputs": [],
   "source": [
    "import pyspark\n",
    "from pyspark import SparkContext\n",
    "from pyspark.sql import SparkSession\n",
    "from pyspark.sql import SQLContext"
   ]
  },
  {
   "cell_type": "code",
   "execution_count": 2,
   "id": "cf1efb1b-70fd-4701-9784-91e2f32ee0ea",
   "metadata": {},
   "outputs": [],
   "source": [
    "spark = (SparkSession\n",
    "         .builder\n",
    "         .master('local[*]')\\\n",
    "         .getOrCreate()\n",
    "         )"
   ]
  },
  {
   "cell_type": "code",
   "execution_count": 3,
   "id": "a8a9ae78-406e-4acd-aa49-287ad8af4c2a",
   "metadata": {},
   "outputs": [],
   "source": [
    "spark._jsc.hadoopConfiguration().set(\"fs.s3a.endpoint\", \"http://minio:9000\")\n",
    "spark._jsc.hadoopConfiguration().set(\"fs.s3a.access.key\", \"FFD34B2AC56E76E8BB9E7EFD7D283\")\n",
    "spark._jsc.hadoopConfiguration().set(\"fs.s3a.secret.key\", \"47A13EFAB1CA1F253FD6F56DEF769\")\n",
    "spark._jsc.hadoopConfiguration().set(\"fs.s3a.impl\",\"org.apache.hadoop.fs.s3a.S3AFileSystem\")\n",
    "spark._jsc.hadoopConfiguration().set(\"fs.s3a.path.style.access\", \"true\")\n",
    "spark._jsc.hadoopConfiguration().set(\"fs.s3a.aws.credentials.provider\",\"org.apache.hadoop.fs.s3a.SimpleAWSCredentialsProvider\")\n",
    "spark._jsc.hadoopConfiguration().set(\"spark.jars\", \"postgresql-42.2.14.jar\")"
   ]
  },
  {
   "cell_type": "code",
   "execution_count": 6,
   "id": "0b118ce4-f1fe-48bd-84c4-a8d3774a8175",
   "metadata": {
    "tags": []
   },
   "outputs": [],
   "source": [
    "# read from minio\n",
    "df_fake_items = spark.read \\\n",
    "        .format(\"json\") \\\n",
    "        .option(\"inferSchema\", \"true\") \\\n",
    "        .json(\"s3a://landing/fake_items//*.json\")\n"
   ]
  },
  {
   "cell_type": "code",
   "execution_count": 7,
   "id": "1b0cd71b-492e-49bf-a4e0-bd828927d1c7",
   "metadata": {},
   "outputs": [
    {
     "name": "stdout",
     "output_type": "stream",
     "text": [
      "+----------+--------------------+--------------------+--------------------+------------+-------------------+--------------------+--------------------+--------------------+-----------+--------------------+--------------------+--------------------+--------------------+--------------------+--------------------+----------+-------------+-------------------+----------+\n",
      "|Unnamed: 0|         ai_model_id|      cloned_from_id|      content_filter|content_type|         created_at|dt_current_timestamp|             flavors|                  id|is_archived|              job_id|            metadata|          project_id|    prompt_schema_id|             root_id|    selected_flavors|    status|         step|         updated_at|updated_by|\n",
      "+----------+--------------------+--------------------+--------------------+------------+-------------------+--------------------+--------------------+--------------------+-----------+--------------------+--------------------+--------------------+--------------------+--------------------+--------------------+----------+-------------+-------------------+----------+\n",
      "|         0|26e3dd5d-b6ab-49d...|4bcc2f6b-dbfd-471...|{\"key1\": \"suffer\"...|          we|2023-05-07 21:09:47|          1699563596|{\"key1\": \"level\",...|b49a7daf-a8ae-428...|       true|36a2c9ac-a059-49f...|{\"key1\": \"pressur...|51e50b93-f8ea-4d6...|13b6be06-2fba-43a...|8d9d5755-41f4-43c...|{\"key1\": \"century...|     staff|          air|2023-04-21 00:27:36|    player|\n",
      "|         1|ffbac4fa-023d-4af...|44f2e268-2a47-43b...|{\"key1\": \"underst...|     because|2023-02-22 03:16:28|          1699563596|{\"key1\": \"side\", ...|1a3eba58-3213-45d...|      false|2f1f2dba-84c5-487...|{\"key1\": \"kitchen...|adf88a02-63de-4ea...|77fe8303-e29d-408...|58e303e0-ace3-49e...|{\"key1\": \"despite...|       say|         find|2023-10-08 23:06:15|       top|\n",
      "|         2|031ba0f8-91e9-4b9...|a732d6d0-85a9-490...|{\"key1\": \"result\"...|      expert|2023-06-05 07:53:09|          1699563596|{\"key1\": \"own\", \"...|8bd482aa-3da2-4e0...|      false|7061b780-dd0a-448...|{\"key1\": \"little\"...|568b5a07-6860-443...|37f6eb81-9a9f-470...|264735fc-5653-48f...|{\"key1\": \"admit\",...|throughout|         lead|2023-01-15 19:33:13|       our|\n",
      "|         3|8839cb45-5b83-4be...|9ce45ce7-c15c-425...|{\"key1\": \"star\", ...|        that|2023-07-12 12:32:33|          1699563596|{\"key1\": \"whateve...|3027204f-2920-41c...|       true|ceb684a1-431c-483...|{\"key1\": \"claim\",...|29baca8e-bf2c-4ad...|db0c53c1-686f-450...|7f1d1ea6-1e8b-459...|{\"key1\": \"nationa...|      body|       former|2023-03-04 18:14:24|     table|\n",
      "|         4|54508e6c-74ec-40f...|6e696120-5f85-480...|{\"key1\": \"factor\"...|      chance|2023-01-13 05:13:09|          1699563596|{\"key1\": \"somethi...|90178dbb-6ed5-4a1...|       true|b13bf7d0-268e-4bb...|{\"key1\": \"mind\", ...|dea047af-5c4a-4ba...|2151df14-b02d-4cb...|9c36612e-4251-479...|{\"key1\": \"way\", \"...|    minute|        quite|2023-10-08 15:29:55|     ahead|\n",
      "|         5|0ec766ab-dbba-49f...|bc9517a3-ac24-452...|{\"key1\": \"add\", \"...|         car|2022-12-15 05:39:11|          1699563596|{\"key1\": \"natural...|6407da22-2b22-406...|       true|fb49eca4-2388-4fb...|{\"key1\": \"style\",...|96542c8e-78cc-415...|e9c06b6f-f770-459...|02d721f4-0b43-4fe...|{\"key1\": \"yoursel...|  recently|        order|2023-07-21 03:35:39|   whether|\n",
      "|         6|957154f1-d84f-4d8...|71bb9580-a938-48f...|{\"key1\": \"expect\"...|      sister|2023-05-22 12:07:48|          1699563596|{\"key1\": \"able\", ...|45dda722-5238-457...|      false|5d08ae7b-2789-490...|{\"key1\": \"represe...|fd319c1a-180e-4ba...|bb0f15e3-2ac2-4e8...|9889f2d2-e08a-459...|{\"key1\": \"good\", ...|      week|      already|2023-04-26 23:40:20|   purpose|\n",
      "|         7|f9bc063d-cbfd-405...|4dc5804e-b4ae-4c2...|{\"key1\": \"decide\"...|    question|2022-12-24 03:22:46|          1699563596|{\"key1\": \"learn\",...|fb9c41bb-7552-43d...|      false|871ab58f-8d8e-4cb...|{\"key1\": \"concern...|2f7ceb50-cac0-486...|da70e21a-9e4c-4f0...|dca8dda8-c10a-436...|{\"key1\": \"region\"...|     state|       common|2023-02-04 15:39:22|      time|\n",
      "|         8|d44e5384-b1d0-4d0...|f561dc4d-95ec-41f...|{\"key1\": \"interna...|      during|2023-06-24 21:00:30|          1699563596|{\"key1\": \"green\",...|9cfd2829-0919-4ad...|      false|0e36cda5-cc0b-4a9...|{\"key1\": \"party\",...|1878c51b-7900-40d...|7f9faecc-46d0-4ac...|4cc3f53f-f5a9-452...|{\"key1\": \"could\",...|     among|        short|2023-03-08 15:02:50|      meet|\n",
      "|         9|567cae97-a2f2-4c3...|b24688ac-75a2-439...|{\"key1\": \"act\", \"...|        once|2023-03-20 21:17:53|          1699563596|{\"key1\": \"health\"...|9897cf92-20c9-44b...|      false|d5440eb7-0b7c-42c...|{\"key1\": \"movie\",...|0baaef92-f9ff-4b4...|69ee7c38-4a97-421...|f6e2fd93-33d8-4ed...|{\"key1\": \"cell\", ...|       cut|     thousand|2022-12-17 01:08:05|  suddenly|\n",
      "|        10|8da944f9-f206-4a2...|4a90dcba-8b67-4e0...|{\"key1\": \"oil\", \"...|       still|2023-05-27 11:45:44|          1699563596|{\"key1\": \"experie...|745e2b4a-2d3f-41e...|       true|fd9892f9-bf8c-423...|{\"key1\": \"tend\", ...|be2fe76a-e61a-453...|0ce6e636-80a0-470...|fd512f65-767e-490...|{\"key1\": \"alone\",...|      have|international|2023-08-28 11:16:27|     radio|\n",
      "|        11|1eae52c9-7f93-43c...|9070597b-cc0f-4bd...|{\"key1\": \"ok\", \"k...|       enter|2023-05-02 18:16:54|          1699563596|{\"key1\": \"medical...|0d4d157e-f11a-4af...|      false|dcf270e2-5779-4ce...|{\"key1\": \"it\", \"k...|873ac753-5adb-401...|97cdf84d-b96e-4ff...|328119c1-810d-4cb...|{\"key1\": \"energy\"...|    budget|         real|2023-02-17 18:21:39|       gas|\n",
      "|        12|d68fb9ad-7c4c-43d...|6e306b02-cde2-422...|{\"key1\": \"nor\", \"...|      manage|2023-02-13 19:58:03|          1699563596|{\"key1\": \"product...|7bdbbc46-f449-450...|      false|9b263e93-f872-4c6...|{\"key1\": \"fund\", ...|e14da38a-3ec9-440...|47ba6f35-d359-48e...|3892688c-0c73-47a...|{\"key1\": \"citizen...|    answer|  interesting|2023-08-02 23:06:48|      huge|\n",
      "|        13|fc34d0f5-908f-4d4...|e77cc704-bbae-40a...|{\"key1\": \"school\"...|        draw|2023-06-21 10:59:42|          1699563596|{\"key1\": \"gun\", \"...|783ddbef-d682-4a3...|      false|79104bb5-a5d6-441...|{\"key1\": \"local\",...|1ce157ee-ba38-43d...|fe015211-7a21-4b7...|d1ae8e3b-638b-4f6...|{\"key1\": \"around\"...|    listen|      contain|2023-09-23 14:16:51|   because|\n",
      "|        14|3aac3189-47cc-41d...|e96b726f-0cda-4d0...|{\"key1\": \"check\",...|    official|2023-05-13 20:56:26|          1699563596|{\"key1\": \"enough\"...|ecc8c250-0a6c-4ad...|      false|6abc680a-26c5-454...|{\"key1\": \"culture...|3116a9ab-d115-46d...|302f77f9-4df5-471...|c364c38c-0b70-451...|{\"key1\": \"huge\", ...| direction|       toward|2022-12-22 20:18:47|      show|\n",
      "|        15|c50b6a34-3f29-448...|4c5ab43a-eaa9-48e...|{\"key1\": \"voice\",...|      change|2022-12-23 20:06:24|          1699563596|{\"key1\": \"there\",...|f67de174-393a-4aa...|       true|19a0664f-9897-4bf...|{\"key1\": \"easy\", ...|c2f6982c-55f6-4ef...|deb39efe-695e-403...|3ff510bf-3a17-4c2...|{\"key1\": \"stuff\",...|    across|  participant|2023-06-07 09:17:52|    choice|\n",
      "|        16|740c2dbc-597b-494...|01695e17-dd34-459...|{\"key1\": \"prepare...|     kitchen|2022-11-22 09:45:06|          1699563596|{\"key1\": \"positio...|2b0d93f8-0291-4bf...|       true|97bf7066-5103-4e6...|{\"key1\": \"site\", ...|d34cf693-6fbb-416...|790e1345-95eb-417...|324bf6c9-9e01-452...|{\"key1\": \"least\",...|      book|        civil|2023-06-29 14:36:57|    matter|\n",
      "|        17|ba795e3a-abd5-41d...|b2a3bae6-0c79-4c8...|{\"key1\": \"chair\",...|       their|2023-04-14 20:30:06|          1699563596|{\"key1\": \"protect...|8d8dc1f2-df30-4ba...|       true|9f4d394f-dcd8-4d8...|{\"key1\": \"option\"...|fcbd8aa1-6526-46c...|d7d7ef49-3e80-46c...|4ccc0645-6c84-435...|{\"key1\": \"new\", \"...|    course|         town|2023-10-04 10:09:55|    happen|\n",
      "|        18|6a659b8a-f6eb-42b...|1c9f496b-2ca4-4d4...|{\"key1\": \"example...|          as|2023-08-24 17:35:22|          1699563596|{\"key1\": \"charact...|5d6e9b51-71fe-460...|      false|e5e7ca5a-e62f-43a...|{\"key1\": \"simple\"...|a688849e-c0b0-49d...|1dc6c330-e3bf-435...|b396d56d-a753-473...|{\"key1\": \"option\"...|     north|         last|2023-11-08 03:03:17|      like|\n",
      "|        19|a3064a10-253d-4ae...|542ed59b-8fd5-413...|{\"key1\": \"propert...|        some|2023-08-25 21:54:09|          1699563596|{\"key1\": \"soon\", ...|f7c02326-23e2-425...|       true|42d44009-040b-42d...|{\"key1\": \"enjoy\",...|6ebfd16a-7390-4b1...|9b1ccee6-a82e-4be...|ea5e07f2-cb5e-4e8...|{\"key1\": \"anyone\"...|    impact|         part|2023-06-23 10:57:50|      cell|\n",
      "+----------+--------------------+--------------------+--------------------+------------+-------------------+--------------------+--------------------+--------------------+-----------+--------------------+--------------------+--------------------+--------------------+--------------------+--------------------+----------+-------------+-------------------+----------+\n",
      "only showing top 20 rows\n",
      "\n"
     ]
    }
   ],
   "source": [
    "df_fake_items.show()"
   ]
  },
  {
   "cell_type": "code",
   "execution_count": 11,
   "id": "77ce51e8-7dc3-41c4-94d3-17f62bb95252",
   "metadata": {},
   "outputs": [],
   "source": [
    "df_fake_items.write.format(\"jdbc\")\\\n",
    "    .option(\"url\", \"jdbc:postgresql://postgres:5432/postgres\") \\\n",
    "    .option(\"driver\", \"org.postgresql.Driver\").option(\"dbtable\", \"demo.fake_items\") \\\n",
    "    .option(\"user\", \"postgres\").option(\"password\", \"Sup3rS3c3t\").mode('overwrite').save()"
   ]
  },
  {
   "cell_type": "code",
   "execution_count": 12,
   "id": "3aeddc94-baf8-47ef-a614-df2688d600e4",
   "metadata": {},
   "outputs": [],
   "source": [
    "spark.stop()"
   ]
  }
 ],
 "metadata": {
  "kernelspec": {
   "display_name": "Python 3 (ipykernel)",
   "language": "python",
   "name": "python3"
  },
  "language_info": {
   "codemirror_mode": {
    "name": "ipython",
    "version": 3
   },
   "file_extension": ".py",
   "mimetype": "text/x-python",
   "name": "python",
   "nbconvert_exporter": "python",
   "pygments_lexer": "ipython3",
   "version": "3.10.5"
  }
 },
 "nbformat": 4,
 "nbformat_minor": 5
}
